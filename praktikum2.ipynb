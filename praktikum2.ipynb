import numpy as np

def f(x):
    return x**2 * np.cos(x**2)

def romberg(a, b, n):
    R = np.zeros((n, n))
    h = b - a
    R[0, 0] = 0.5 * h * (f(a) + f(b))

    for i in range(1, n):
        h /= 2
        sum_f = sum(f(a + (2 * k - 1) * h) for k in range(1, 2**(i - 1) + 1))
        R[i, 0] = 0.5 * R[i - 1, 0] + h * sum_f

        for j in range(1, i + 1):
            R[i, j] = R[i, j - 1] + (R[i, j - 1] - R[i - 1, j - 1]) / (4**j - 1)

    return R

# Input dari pengguna
a = float(input("Masukkan batas bawah a: "))
b = float(input("Masukkan batas atas b: "))
n = int(input("Masukkan jumlah level Romberg (n): "))

# Hitung dan tampilkan hasil
romberg_table = romberg(a, b, n)
hasil_akhir = romberg_table[n-1, n-1]

np.set_printoptions(precision=10, suppress=True)
print("\nTabel Romberg:")
print(romberg_table)
print("\nHasil integrasi Romberg:", hasil_akhir)
